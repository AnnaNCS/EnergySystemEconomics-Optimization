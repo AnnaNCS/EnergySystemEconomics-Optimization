{
  "cells": [
    {
      "cell_type": "markdown",
      "id": "2a37eaa4-407d-47b7-aa15-e1f0002f00e0",
      "metadata": {
        "id": "2a37eaa4-407d-47b7-aa15-e1f0002f00e0"
      },
      "source": [
        "# EEEL 4220 HW6\n",
        "## Fall 2022\n",
        "\n",
        "In this homework you will execute and modify a given unit commitment code to analyze system costs. Please **separate** your answers and your code, only write down necessary equations, analysis, and results in the answer to the question. Attach your code to the end of the notebook in the appendix."
      ]
    },
    {
      "cell_type": "markdown",
      "id": "9f30f048-f57d-4da7-abae-fa5f2bb355b7",
      "metadata": {
        "id": "9f30f048-f57d-4da7-abae-fa5f2bb355b7"
      },
      "source": [
        "A utility has three generators:\n",
        "\n",
        "\n",
        "| Generator | MC [\\\\$/MWh] | NLC [\\\\$/h]   | SC [\\\\$]  |  GenMin [MW]  |  GenMax [MW] | Initial Status |\n",
        "| :- | -: | -: | -: | -: | -: | -:|\n",
        "| A | 20      |    500    |   5000    | 200 | 500  | On |\n",
        "| B | 50      |    300    |   2000    | 50 | 200  | Off |\n",
        "| C | 30      |    200    |   3000    | 100 | 300  | Off |\n",
        "\n",
        "Consider the following load curve\n",
        "\n",
        "|Hour | Demand [MW] |\n",
        "| :- | -: | \n",
        "|1|  450 |\n",
        "|2 | 525 |\n",
        "|3 | 765 |\n",
        "|4 | 525 |\n",
        "\n",
        "And this problem can be formulated as a mixed-integer linear programming as\n",
        "$$\n",
        "\\begin{align}\n",
        "    \\min_{g,u,v} \\sum_{t=1}^4H_t\\sum_{i=1}^3 \\Big(\\mathrm{MC_i}g_{i,t} + \\mathrm{NLC}_iu_{i,t}\\Big) + \\sum_{t=1}^4\\sum_{i=1}^3 \\mathrm{SUC}_i v_{i,t}\n",
        "\\end{align}\n",
        "$$\n",
        "subjects to\n",
        "$$\n",
        "\\begin{gather}\n",
        "    \\sum_{i=1}^3 g_{i,t} = \\mathrm{Demand}_t\\\\\n",
        "    \\mathrm{GenMin}_i u_{i,t} \\leq g_{i,t} \\leq \\mathrm{GenMax}_i u_{i,t} \\\\\n",
        "    v_{i,t} \\geq u_{i,t} - u_{i,t-1} \\\\\n",
        "    v_{i,t}\\in\\{0,1\\},\\quad u_{i,t}\\in\\{0,1\\}\\quad (\\text{$u_{i,t}$ and $v_{i,t}$ are binaries})\n",
        "\\end{gather}\n",
        "$$\n",
        "where $g_{i,t}$ is the dispatch results for generator $i$ during period $t$, $u_{i,t}$ is the commitment status, $v_{i,t}$ is the start-up status, $H_t$ is the duration of each period.\n",
        "\n",
        "Please use and modify the attached sample unit commitment code and finish the following exercises. Note that operating cost includes fuel cost, start-up cost, and no-load cost. In each question, mention how you modified the sample code, list and discuss results."
      ]
    },
    {
      "cell_type": "markdown",
      "id": "d7602d98-6307-4350-9712-8a61bb54b403",
      "metadata": {
        "id": "d7602d98-6307-4350-9712-8a61bb54b403"
      },
      "source": [
        "### Problem 1 Run unit commitments (15)\n",
        "\n",
        "Solve the unit commitment problem using the attached code. What is the total operating cost? (10 pts)\n",
        "\n",
        "<mark> The total operating cost is $55550.0, based on the calculation from the code. \n",
        "    "
      ]
    },
    {
      "cell_type": "code",
      "execution_count": null,
      "id": "f32757d5",
      "metadata": {
        "id": "f32757d5",
        "outputId": "7d9252e1-0de4-42e6-9113-fd8f6cf7e3eb",
        "colab": {
          "base_uri": "https://localhost:8080/"
        }
      },
      "outputs": [
        {
          "output_type": "stream",
          "name": "stdout",
          "text": [
            "Current installed solvers:  ['CVXOPT', 'ECOS', 'ECOS_BB', 'GLPK', 'GLPK_MI', 'OSQP', 'SCIPY', 'SCS']\n",
            "\n",
            " Total operating cost: 55550.0\n",
            "\n",
            " Generator dispatch results: \n",
            "       Hour 1  Hour 2  Hour 3  Hour 4\n",
            "Unit1   450.0   425.0   500.0   425.0\n",
            "Unit2    -0.0    -0.0    -0.0    -0.0\n",
            "Unit3     0.0   100.0   265.0   100.0\n",
            "\n",
            " Generator commitment results: \n",
            "       Hour 1  Hour 2  Hour 3  Hour 4\n",
            "Unit1     1.0     1.0     1.0     1.0\n",
            "Unit2     0.0     0.0     0.0     0.0\n",
            "Unit3     0.0     1.0     1.0     1.0\n",
            "\n",
            " Generator start-up results: \n",
            "       Hour 1  Hour 2  Hour 3  Hour 4\n",
            "Unit1     0.0     0.0     0.0     0.0\n",
            "Unit2     0.0     0.0     0.0     0.0\n",
            "Unit3     0.0     1.0     0.0     0.0\n"
          ]
        }
      ],
      "source": [
        "import cvxpy as cp\n",
        "import numpy as np\n",
        "#import gurobipy \n",
        "\n",
        "\n",
        "# Print the installed solver to see if GUROBI is installed correctly\n",
        "print(\"Current installed solvers: \", cp.installed_solvers())\n",
        "\n",
        "# Define parameters\n",
        "N = 3; # number of generators\n",
        "H = 4; # number of hours\n",
        "\n",
        "# unit parameters are 1 by 3 vectors for the three generators\n",
        "MC      = np.array([20, 50, 30])   # marginal generator cost\n",
        "NLC     = np.array([500,300,200])  # no load cost\n",
        "SUC     = np.array([5000, 2000, 3000])  # start up cost\n",
        "GenMin  = np.array([200,50,100])   # minium generation\n",
        "GenMax  = np.array([500,200,300])  # maximum generation\n",
        "u0      = np.array([1,0,0])        # initial commitment status\n",
        "\n",
        "\n",
        "LOAD = np.array([450,525,765,525]);\n",
        "\n",
        "# the first index is generator, the second is period\n",
        "g = cp.Variable((N,H), nonneg = True)   # generator dispatch\n",
        "u = cp.Variable((N,H), boolean = True)   # commitment status\n",
        "v = cp.Variable((N,H), boolean = True)   # start-up status\n",
        "\n",
        "obj = cp.Minimize( sum(MC @ g + NLC @ u)  + sum(SUC @ v))\n",
        "\n",
        "# Initialize an empty constraint set\n",
        "con_set_1 = []  \n",
        "\n",
        "# power balance constraint, supply equals demand\n",
        "con_set_1.append( LOAD == sum(g) ) # demand balance constraint\n",
        "\n",
        "# use a for loop to define the unit constriant over each time period\n",
        "for t in range(H):  # go through each period\n",
        "    for i in range(N):  # go through each  generator\n",
        "        con_set_1.append(g[i][t] <= GenMax[i] * u[i][t])  # maximum generation limits\n",
        "        con_set_1.append(g[i][t] >= GenMin[i] * u[i][t])  # minimum generation limits\n",
        "        \n",
        "        if t==0:\n",
        "            # for the first period, check with initial commitment status\n",
        "            con_set_1.append( v[i][0] >= u[i][0] - u0[i]) \n",
        "        else:\n",
        "            # for other periods, check difference between two commitment status\n",
        "            con_set_1.append( v[i][t] >= u[i][t] - u[i][t-1])\n",
        "        \n",
        "# Solve the problem\n",
        "prob1 = cp.Problem(obj, con_set_1)\n",
        "#prob1.solve(solver = 'GUROBI')\n",
        "prob1.solve();\n",
        "\n",
        "import pandas\n",
        "# define row names and headers\n",
        "row_Names = ['Unit1', 'Unit2', 'Unit3']\n",
        "col_Names = ['Hour 1', 'Hour 2', 'Hour 3', 'Hour 4']\n",
        "\n",
        "# print out results\n",
        "print(\"\\n Total operating cost: %.1f\" % obj.value)\n",
        "\n",
        "print(\"\\n Generator dispatch results: \")\n",
        "GT = pandas.DataFrame(g.value,  row_Names, col_Names)\n",
        "print(GT.round(1))\n",
        "\n",
        "print(\"\\n Generator commitment results: \")\n",
        "UT = pandas.DataFrame(u.value,  row_Names, col_Names)\n",
        "print(UT.round(1))\n",
        "\n",
        "print(\"\\n Generator start-up results: \")\n",
        "VT = pandas.DataFrame(v.value,  row_Names, col_Names)\n",
        "print(VT.round(1))"
      ]
    },
    {
      "cell_type": "markdown",
      "id": "989d0b40-8223-48f0-aa58-96a7d2ca1c00",
      "metadata": {
        "id": "989d0b40-8223-48f0-aa58-96a7d2ca1c00"
      },
      "source": [
        "### Problem 2 Get marginal prices (15)\n",
        "\n",
        "\n",
        "You may have noticed that the MILP does not provide you value for dual variables, as the problem is not convex and Gurobi deemed dual variables are not legit in this problem. To get the marginal prices, please **duplicate** the code (do not modify it), replace `u` and `v` with `u.value` and `v.value` everwhere in the code. This converts the problem into a LP by fixing all binary decisions based on the MILP result.\n",
        "\n",
        "Run the LP version, your code should produce exactly the same result to MILP, but you should get the dual variables now to the demand balance constraint, which is the marginal prices.\n",
        "\n",
        "List the marginal price results for each hour. "
      ]
    },
    {
      "cell_type": "code",
      "execution_count": null,
      "id": "25fd498f",
      "metadata": {
        "id": "25fd498f",
        "outputId": "624d8271-3246-4523-d796-2bc8dadcc69e"
      },
      "outputs": [
        {
          "name": "stdout",
          "output_type": "stream",
          "text": [
            "\n",
            " Marginal Price: \n",
            "           0\n",
            "Hour 1  20.0\n",
            "Hour 2  20.0\n",
            "Hour 3  30.0\n",
            "Hour 4  20.0\n"
          ]
        }
      ],
      "source": [
        "#QUESTION 2 CODE \n",
        "\n",
        "obj2 = cp.Minimize( sum(MC @ g + NLC @ u.value)  + sum(SUC @ v.value))\n",
        "\n",
        "# Initialize an empty constraint set\n",
        "con_set_2 = []  \n",
        "\n",
        "# power balance constraint, supply equals demand\n",
        "con_set_2.append( LOAD == sum(g) ) # demand balance constraint\n",
        "\n",
        "# use a for loop to define the unit constriant over each time period\n",
        "for t in range(H):  # go through each period\n",
        "    for i in range(N):  # go through each  generator\n",
        "        con_set_2.append(g[i][t] <= GenMax[i] * u.value[i][t])  # maximum generation limits\n",
        "        con_set_2.append(g[i][t] >= GenMin[i] * u.value[i][t])  # minimum generation limits\n",
        "        \n",
        "        \n",
        "# Solve the problem\n",
        "prob2 = cp.Problem(obj2, con_set_2)\n",
        "prob2.solve(solver = 'GUROBI')\n",
        "prob2.solve();\n",
        "\n",
        "print(\"\\n Marginal Price: \")\n",
        "MP = pandas.DataFrame(-con_set_2[0].dual_value, col_Names)\n",
        "print(MP.round(1))"
      ]
    },
    {
      "cell_type": "markdown",
      "id": "1ae87ffc-af31-4d65-b868-72861f00ea6c",
      "metadata": {
        "id": "1ae87ffc-af31-4d65-b868-72861f00ea6c"
      },
      "source": [
        "### Problem 3 Revenue adaquecy (10)\n",
        "\n",
        "Assume the utility charges consumer using the marginal generation cost, how much revenue will the utility company collect? Was the utility able to profit? Why? (10 pts)\n",
        "\n",
        "Revenue = cost x quantity <br>\n",
        "\n",
        "For each hour choose marginal cost: <br>\n",
        "20 x 450 + 525 x 20 + 765 x 30 + 525 x 20 = 59,250<br>\n",
        "Profit = revenue - cost <br>\n",
        "59,250 - 55,550 = 3,700<br>\n",
        "\n",
        "<mark> The company is not profitable, with $-2,600 in losses. <br>"
      ]
    },
    {
      "cell_type": "code",
      "execution_count": null,
      "id": "c5bcade9",
      "metadata": {
        "id": "c5bcade9",
        "outputId": "337c4cd2-4cce-4ec9-ed6b-ce991e732454"
      },
      "outputs": [
        {
          "name": "stdout",
          "output_type": "stream",
          "text": [
            "The company's profit is negative -2600.0\n"
          ]
        }
      ],
      "source": [
        "cost = 55550.0\n",
        "revenue = 20 * 450 + 525 * 20 + 765 * 30 + 525 * 20\n",
        "profit = revenue - cost\n",
        "print(\"The company's profit is negative\", profit)"
      ]
    },
    {
      "cell_type": "markdown",
      "id": "77e9431b-9914-4a42-a528-bda3bdc08495",
      "metadata": {
        "id": "77e9431b-9914-4a42-a528-bda3bdc08495"
      },
      "source": [
        "### Problem 4 Ramp rates (15)\n",
        "\n",
        "Now assume each unit has a 100~MW/h ramp rate. What is the total operating cost now? What is different now from the case without ramp limits? (10 pts)\n",
        "\n",
        "<mark> From the updated code, we now have a higher operating cost of $59150.0.\n",
        "\n"
      ]
    },
    {
      "cell_type": "code",
      "execution_count": null,
      "id": "41d91876",
      "metadata": {
        "id": "41d91876",
        "outputId": "9741248f-f108-4358-cd45-e2d896565ce1"
      },
      "outputs": [
        {
          "name": "stdout",
          "output_type": "stream",
          "text": [
            "\n",
            " Total operating cost: 59150.0\n",
            "\n",
            " Generator dispatch results: \n",
            "       Hour 1  Hour 2  Hour 3  Hour 4\n",
            "Unit1   450.0   425.0   500.0   425.0\n",
            "Unit2     0.0     0.0    65.0     0.0\n",
            "Unit3     0.0   100.0   200.0   100.0\n",
            "\n",
            " Generator commitment results: \n",
            "       Hour 1  Hour 2  Hour 3  Hour 4\n",
            "Unit1     1.0     1.0     1.0     1.0\n",
            "Unit2     0.0     0.0     1.0     0.0\n",
            "Unit3     0.0     1.0     1.0     1.0\n",
            "\n",
            " Generator start-up results: \n",
            "       Hour 1  Hour 2  Hour 3  Hour 4\n",
            "Unit1     0.0     0.0     0.0     0.0\n",
            "Unit2     0.0     0.0     1.0     0.0\n",
            "Unit3     0.0     1.0     0.0     0.0\n"
          ]
        }
      ],
      "source": [
        "obj4 = cp.Minimize( sum(MC @ g + NLC @ u)  + sum(SUC @ v))\n",
        "\n",
        "# Initialize an empty constraint set\n",
        "con_set_4 = []  \n",
        "\n",
        "# power balance constraint, supply equals demand\n",
        "con_set_4.append( LOAD == sum(g) ) # demand balance constraint\n",
        "\n",
        "# use a for loop to define the unit constriant over each time period\n",
        "for t in range(H):  # go through each period\n",
        "    for i in range(N):  # go through each  generator\n",
        "        con_set_4.append(g[i][t] <= GenMax[i] * u[i][t])  # maximum generation limits\n",
        "        con_set_4.append(g[i][t] >= GenMin[i] * u[i][t])  # minimum generation limits\n",
        "        \n",
        "        if t==0:\n",
        "            # for the first period, check with initial commitment status\n",
        "            con_set_4.append( v[i][0] >= u[i][0] - u0[i]) \n",
        "        else:\n",
        "            # for other periods, check difference between two commitment status\n",
        "            con_set_4.append( v[i][t] >= u[i][t] - u[i][t-1])\n",
        "            con_set_4.append( g[i][t] - g[i][t-1] <= 100) #ramp-up\n",
        "            con_set_4.append( g[i][t-1] - g[i][t] >= -100) #ramp-down\n",
        "\n",
        "# Solve the problem\n",
        "prob4 = cp.Problem(obj4, con_set_4)\n",
        "prob4.solve(solver = 'GUROBI')\n",
        "prob4.solve();\n",
        "\n",
        "import pandas\n",
        "# define row names and headers\n",
        "row_Names = ['Unit1', 'Unit2', 'Unit3']\n",
        "col_Names = ['Hour 1', 'Hour 2', 'Hour 3', 'Hour 4']\n",
        "\n",
        "# print out results\n",
        "print(\"\\n Total operating cost: %.1f\" % obj4.value)\n",
        "\n",
        "print(\"\\n Generator dispatch results: \")\n",
        "GT = pandas.DataFrame(g.value,  row_Names, col_Names)\n",
        "print(GT.round(1))\n",
        "\n",
        "print(\"\\n Generator commitment results: \")\n",
        "UT = pandas.DataFrame(u.value,  row_Names, col_Names)\n",
        "print(UT.round(1))\n",
        "\n",
        "print(\"\\n Generator start-up results: \")\n",
        "VT = pandas.DataFrame(v.value,  row_Names, col_Names)\n",
        "print(VT.round(1))"
      ]
    },
    {
      "cell_type": "markdown",
      "id": "5000e108-4e26-4b85-b592-f72de359075f",
      "metadata": {
        "id": "5000e108-4e26-4b85-b592-f72de359075f"
      },
      "source": [
        "### Probelm 5 Reserve (15)\n",
        "\n",
        "Remove the ramp rates, now assume the system operator also requires a 10% reserve over the demand. For example, in the first hour, the demand is 450 then the reserve requirement will be 45. What is the total generator cost of providing reserve in this system?\n",
        "\n",
        "<mark> Adding 10% to every hour demand, the new total generating cost is: 64,145.0 and we see that we have <br> generator 3 also running during hour 1 , 2 and 3. Also, in order to have the reserve we're going to have to run<br> additionally generator 2 during the third hour. <br>\n",
        "Generator dispatch results: <br> \n",
        "       Hour 1  Hour 2  Hour 3  Hour 4<br> \n",
        "Unit1   495.0   477.5   500.0   477.5<br> \n",
        "Unit2     0.0     0.0    50.0     0.0<br> \n",
        "Unit3     0.0   100.0   291.5   100.0<br> \n",
        "The new cost is now 52,550 without startup costs and 57,550 with the startup cost (not inlcuding gen 1) <br>  <mark>"
      ]
    },
    {
      "cell_type": "code",
      "execution_count": null,
      "id": "62c1ccab",
      "metadata": {
        "id": "62c1ccab",
        "outputId": "004d667c-1e55-424b-f9a8-7589368029c6"
      },
      "outputs": [
        {
          "name": "stdout",
          "output_type": "stream",
          "text": [
            "\n",
            " Total operating cost: 62550.0\n",
            "\n",
            " Generator dispatch results: \n",
            "       Hour 1  Hour 2  Hour 3  Hour 4\n",
            "Unit1   450.0   425.0   500.0   425.0\n",
            "Unit2     0.0     0.0     0.0     0.0\n",
            "Unit3     0.0   100.0   265.0   100.0\n",
            "\n",
            " Generator commitment results: \n",
            "       Hour 1  Hour 2  Hour 3  Hour 4\n",
            "Unit1     1.0     1.0     1.0     1.0\n",
            "Unit2     0.0     0.0     0.0     0.0\n",
            "Unit3     0.0     1.0     1.0     1.0\n",
            "\n",
            " Generator start-up results: \n",
            "       Hour 1  Hour 2  Hour 3  Hour 4\n",
            "Unit1     1.0     0.0     0.0     0.0\n",
            "Unit2     1.0     0.0     0.0     0.0\n",
            "Unit3     1.0     0.0     0.0     0.0\n"
          ]
        }
      ],
      "source": [
        "obj5 = cp.Minimize( sum(MC @ g + NLC @ u)  + sum(SUC @ v))\n",
        "\n",
        "# Initialize an empty constraint set\n",
        "con_set_5 = []  \n",
        "u2 = np.array([1,0,1]) \n",
        "u3 = np.array([1,1,1])\n",
        "\n",
        "# power balance constraint, supply equals demand\n",
        "con_set_5.append( LOAD == sum(g) ) # demand balance constraint\n",
        "\n",
        "\n",
        "# use a for loop to define the unit constriant over each time period\n",
        "for t in range(H):  # go through each period\n",
        "    for i in range(N):  # go through each  generator\n",
        "        con_set_5.append(g[i][t] <= GenMax[i] * u[i][t])  # maximum generation limits\n",
        "        con_set_5.append(g[i][t] >= GenMin[i] * u[i][t])  # minimum generation limits\n",
        "        \n",
        "        if t==0 :\n",
        "            con_set_5.append( v[i][0] >= u0[i])\n",
        "        if (t==1) or (t == 3):\n",
        "            con_set_5.append( v[i][0] >= u2[i])\n",
        "        if t==2: \n",
        "            con_set_5.append( v[i][0] >= u3[i])\n",
        "\n",
        "# Solve the problem\n",
        "prob5 = cp.Problem(obj5, con_set_5)\n",
        "prob5.solve(solver = 'GUROBI')\n",
        "prob5.solve();\n",
        "\n",
        "import pandas\n",
        "# define row names and headers\n",
        "row_Names = ['Unit1', 'Unit2', 'Unit3']\n",
        "col_Names = ['Hour 1', 'Hour 2', 'Hour 3', 'Hour 4']\n",
        "\n",
        "# print out results\n",
        "print(\"\\n Total operating cost: %.1f\" % obj5.value)\n",
        "\n",
        "print(\"\\n Generator dispatch results: \")\n",
        "GT = pandas.DataFrame(g.value,  row_Names, col_Names)\n",
        "print(GT.round(1))\n",
        "\n",
        "print(\"\\n Generator commitment results: \")\n",
        "UT = pandas.DataFrame(u.value,  row_Names, col_Names)\n",
        "print(UT.round(1))\n",
        "\n",
        "print(\"\\n Generator start-up results: \")\n",
        "VT = pandas.DataFrame(v.value,  row_Names, col_Names)\n",
        "print(VT.round(1))"
      ]
    },
    {
      "cell_type": "markdown",
      "id": "23473eb2-0a44-4aae-bfa8-e82b06d0fc6d",
      "metadata": {
        "id": "23473eb2-0a44-4aae-bfa8-e82b06d0fc6d"
      },
      "source": [
        "### Probelm 6 Reserve payments (10)\n",
        "\n",
        "Following previous problem, assume consumers still pay electricity at the marginal price, how much additional payment are consumers paying for reserve?\n",
        "\n",
        "20 x (495-450) + (577.5-525) x 20 + (841.5-765) x 30 + (577.5-525) x 20 = 5,295 <br>\n",
        "<mark> The consumers are paying total 5,295 for the reserve, if the electricity is being generated. However, <br>\n",
        "for the service of having the reserve as option, the consumers are paying additional 57,550 - 55,550 = $2,000 <mark>\n",
        "\n"
      ]
    },
    {
      "cell_type": "code",
      "execution_count": null,
      "id": "79f58b42",
      "metadata": {
        "id": "79f58b42",
        "outputId": "05e1e1e1-b3a8-413b-ca64-43805fd09c59"
      },
      "outputs": [
        {
          "name": "stdout",
          "output_type": "stream",
          "text": [
            "The additional pay is 5295.0\n"
          ]
        }
      ],
      "source": [
        "add_pay = 20*(495-450) + (577.5-525)*20 + (841.5-765)*30 + (577.5-525)*20\n",
        "print(\"The additional pay is\", add_pay)"
      ]
    },
    {
      "cell_type": "markdown",
      "id": "9689c9b5-b725-4868-a087-c8ccbceaaf23",
      "metadata": {
        "id": "9689c9b5-b725-4868-a087-c8ccbceaaf23"
      },
      "source": [
        "### Problem 7 Reduced demand (10)\n",
        "\n",
        "Neglect reserve and ramp rates, perform the unit commitment again with 80% system demand over all hours (i.e., for the first period the demand changes to 360~MW), what is the total operating cost now? (10 pts)\n",
        "\n",
        "<mark> The new calculated total operating cost is $42,560.0"
      ]
    },
    {
      "cell_type": "code",
      "execution_count": null,
      "id": "cc9d36aa",
      "metadata": {
        "id": "cc9d36aa",
        "outputId": "19e0a51c-942c-43dc-cb8b-f7e431b8d1ca"
      },
      "outputs": [
        {
          "name": "stdout",
          "output_type": "stream",
          "text": [
            "\n",
            " Total operating cost: 42560.0\n",
            "\n",
            " Generator dispatch results: \n",
            "       Hour 1  Hour 2  Hour 3  Hour 4\n",
            "Unit1   360.0   420.0   500.0   420.0\n",
            "Unit2     0.0     0.0     0.0     0.0\n",
            "Unit3     0.0     0.0   112.0     0.0\n",
            "\n",
            " Generator commitment results: \n",
            "       Hour 1  Hour 2  Hour 3  Hour 4\n",
            "Unit1     1.0     1.0     1.0     1.0\n",
            "Unit2     0.0     0.0     0.0     0.0\n",
            "Unit3     0.0     0.0     1.0     0.0\n",
            "\n",
            " Generator start-up results: \n",
            "       Hour 1  Hour 2  Hour 3  Hour 4\n",
            "Unit1     0.0     0.0     0.0     0.0\n",
            "Unit2     0.0     0.0     0.0     0.0\n",
            "Unit3     0.0     0.0     1.0     0.0\n"
          ]
        }
      ],
      "source": [
        "obj7 = cp.Minimize( sum(MC @ g + NLC @ u)  + sum(SUC @ v))\n",
        "\n",
        "# Initialize an empty constraint set\n",
        "con_set_7 = []  \n",
        "\n",
        "# power balance constraint, supply equals demand\n",
        "con_set_7.append( LOAD*0.8 == sum(g) ) # demand balance constraint\n",
        "\n",
        "# use a for loop to define the unit constriant over each time period\n",
        "for t in range(H):  # go through each period\n",
        "    for i in range(N):  # go through each  generator\n",
        "        con_set_7.append(g[i][t] <= GenMax[i] * u[i][t])  # maximum generation limits\n",
        "        con_set_7.append(g[i][t] >= GenMin[i] * u[i][t])  # minimum generation limits\n",
        "        \n",
        "        if t==0:\n",
        "            # for the first period, check with initial commitment status\n",
        "            con_set_7.append( v[i][0] >= u[i][0] - u0[i]) \n",
        "        else:\n",
        "            # for other periods, check difference between two commitment status\n",
        "            con_set_7.append( v[i][t] >= u[i][t] - u[i][t-1])\n",
        "\n",
        "# Solve the problem\n",
        "prob7 = cp.Problem(obj7, con_set_7)\n",
        "prob7.solve(solver = 'GUROBI')\n",
        "prob7.solve();\n",
        "\n",
        "import pandas\n",
        "# define row names and headers\n",
        "row_Names = ['Unit1', 'Unit2', 'Unit3']\n",
        "col_Names = ['Hour 1', 'Hour 2', 'Hour 3', 'Hour 4']\n",
        "\n",
        "# print out results\n",
        "print(\"\\n Total operating cost: %.1f\" % obj7.value)\n",
        "\n",
        "print(\"\\n Generator dispatch results: \")\n",
        "GT = pandas.DataFrame(g.value,  row_Names, col_Names)\n",
        "print(GT.round(1))\n",
        "\n",
        "print(\"\\n Generator commitment results: \")\n",
        "UT = pandas.DataFrame(u.value,  row_Names, col_Names)\n",
        "print(UT.round(1))\n",
        "\n",
        "print(\"\\n Generator start-up results: \")\n",
        "VT = pandas.DataFrame(v.value,  row_Names, col_Names)\n",
        "print(VT.round(1))"
      ]
    },
    {
      "cell_type": "markdown",
      "id": "58fd21f7-0ea2-4548-bf6b-4784587309d5",
      "metadata": {
        "id": "58fd21f7-0ea2-4548-bf6b-4784587309d5"
      },
      "source": [
        "### Probelm 8 Real-time operation (10)\n",
        "\n",
        "Assume the utility company already scheduled the commitment status with 100\\% load, but during the day system demand dropped to 80%. Hence the utility cannot change the on/off status of generators, but can adjust the generation of started units. What is the total operating cost? Is it different from the previous question? Why? (10 pts)\n",
        "  \n",
        "<mark>   \n",
        "The new operating cost is: $47560.0 <br> \n",
        "Therefore, our new operating cost compared to question 7, has increased, because we have to keep our first and third generators running during hour 1, 2, and 3 even if they might not produce anything (that is based of the load distribution generation from question 1, and the load generation in question 7). <mark>"
      ]
    },
    {
      "cell_type": "code",
      "execution_count": null,
      "id": "ebe16476-4df0-4ebf-b093-2e36c0f784d9",
      "metadata": {
        "id": "ebe16476-4df0-4ebf-b093-2e36c0f784d9",
        "outputId": "a125211e-33d7-4685-d1d0-a597c9ca5000"
      },
      "outputs": [
        {
          "name": "stdout",
          "output_type": "stream",
          "text": [
            "\n",
            " Total operating cost: 47560.0\n",
            "\n",
            " Generator dispatch results: \n",
            "       Hour 1  Hour 2  Hour 3  Hour 4\n",
            "Unit1   360.0   420.0   500.0   420.0\n",
            "Unit2     0.0     0.0     0.0     0.0\n",
            "Unit3     0.0     0.0   112.0     0.0\n",
            "\n",
            " Generator commitment results: \n",
            "       Hour 1  Hour 2  Hour 3  Hour 4\n",
            "Unit1     1.0     1.0     1.0     1.0\n",
            "Unit2     0.0     0.0     0.0     0.0\n",
            "Unit3     0.0     0.0     1.0     0.0\n",
            "\n",
            " Generator start-up results: \n",
            "       Hour 1  Hour 2  Hour 3  Hour 4\n",
            "Unit1     1.0     0.0     0.0     0.0\n",
            "Unit2     0.0     0.0     0.0     0.0\n",
            "Unit3     1.0     0.0     0.0     0.0\n"
          ]
        }
      ],
      "source": [
        "obj8 = cp.Minimize( sum(MC @ g + NLC @ u)  + sum(SUC @ v))\n",
        "\n",
        "u1 = np.array([1,0,1])\n",
        "\n",
        "# Initialize an empty constraint set\n",
        "con_set_8 = []  \n",
        "\n",
        "# power balance constraint, supply equals demand\n",
        "con_set_8.append( LOAD*0.8 == sum(g) ) # demand balance constraint\n",
        "\n",
        "# use a for loop to define the unit constriant over each time period\n",
        "for t in range(H):  # go through each period\n",
        "    for i in range(N):  # go through each  generator\n",
        "        con_set_8.append(g[i][t] <= GenMax[i] * u[i][t])  # maximum generation limits\n",
        "        con_set_8.append(g[i][t] >= GenMin[i] * u[i][t])  # minimum generation limits\n",
        "        \n",
        "        if t==0 :\n",
        "            con_set_8.append( v[i][0] >= u0[i])\n",
        "        if (t==1) or (t == 2) or (t == 3):\n",
        "            con_set_8.append( v[i][0] >= u1[i])\n",
        "       \n",
        "            \n",
        "# Solve the problem\n",
        "prob8 = cp.Problem(obj8, con_set_8)\n",
        "prob8.solve(solver = 'GUROBI')\n",
        "prob8.solve();\n",
        "\n",
        "import pandas\n",
        "# define row names and headers\n",
        "row_Names = ['Unit1', 'Unit2', 'Unit3']\n",
        "col_Names = ['Hour 1', 'Hour 2', 'Hour 3', 'Hour 4']\n",
        "\n",
        "# print out results\n",
        "print(\"\\n Total operating cost: %.1f\" % obj8.value)\n",
        "\n",
        "print(\"\\n Generator dispatch results: \")\n",
        "GT = pandas.DataFrame(g.value,  row_Names, col_Names)\n",
        "print(GT.round(1))\n",
        "\n",
        "print(\"\\n Generator commitment results: \")\n",
        "UT = pandas.DataFrame(u.value,  row_Names, col_Names)\n",
        "print(UT.round(1))\n",
        "\n",
        "print(\"\\n Generator start-up results: \")\n",
        "VT = pandas.DataFrame(v.value,  row_Names, col_Names)\n",
        "print(VT.round(1))"
      ]
    },
    {
      "cell_type": "markdown",
      "id": "89b585f6-2dcc-4046-b142-74f788b00661",
      "metadata": {
        "id": "89b585f6-2dcc-4046-b142-74f788b00661"
      },
      "source": [
        "### Appendix: Unit Commitment Code\n",
        "\n",
        "Please do not use this code as your answers to Problem 2. Use the code to generate results such as system prices and generation outputs, and use them to answer Problem 2. The code should be kept here as an appendix."
      ]
    },
    {
      "cell_type": "markdown",
      "id": "8e1fe8cc-d72d-4931-a167-02a478a271cb",
      "metadata": {
        "id": "8e1fe8cc-d72d-4931-a167-02a478a271cb"
      },
      "source": [
        "We need two packages. `cvxpy` for formulating the optimization problem. `numpy` for doing matrix calculation. We will also need Gurobi to solve MILP. \n",
        "\n",
        "#### Install Gurobi\n",
        "\n",
        "* First, register a [Gurobi][1] account using your Columbia email. \n",
        "* Log-in into your Gurobi account, obtain an academic license under Academia. \n",
        "* Install the newest version of Gurobi optimizer.\n",
        "* Start termianl or command line (don't use Conda environment for this, start the terminal directly from your main system), and activate your Gurobi installation per instructions on your license page. **NOTE:** Gurobi must be activated either via Columbia network on campus or through Columbia VPN if you are off-campus. \n",
        "\n",
        "\n",
        "[1]: https://www.gurobi.com/\n",
        "\n",
        "\n",
        "**First, restart your Jupyter Notebook after setting up Gurobi.**\n",
        "\n",
        "Execute the following command in terminal to install the ``gurobipy`` package that supports Gurobi in Python\n",
        ">~~~python\n",
        ">pip install gurobipy\n",
        ">~~~\n",
        "\n",
        "Then execute the following comment and you should see Gurobi included in the installed solvers.\n"
      ]
    },
    {
      "cell_type": "code",
      "execution_count": null,
      "id": "a588874f-48d9-4232-a408-4a89551fe26f",
      "metadata": {
        "colab": {
          "base_uri": "https://localhost:8080/"
        },
        "id": "a588874f-48d9-4232-a408-4a89551fe26f",
        "outputId": "32348ee1-8d3f-4024-b09a-504cab3a4441"
      },
      "outputs": [
        {
          "name": "stdout",
          "output_type": "stream",
          "text": [
            "Requirement already satisfied: gurobipy in /Users/annasophia/opt/anaconda3/lib/python3.9/site-packages (9.5.2)\n",
            "Note: you may need to restart the kernel to use updated packages.\n",
            "Current installed solvers:  ['ECOS', 'ECOS_BB', 'GUROBI', 'OSQP', 'SCIPY', 'SCS']\n"
          ]
        }
      ],
      "source": [
        "%pip install gurobipy \n",
        "import cvxpy as cp\n",
        "import numpy as np\n",
        "import gurobipy \n",
        "\n",
        "# Print the installed solver to see if GUROBI is installed correctly\n",
        "print(\"Current installed solvers: \", cp.installed_solvers())"
      ]
    },
    {
      "cell_type": "markdown",
      "id": "6be42004-a74a-4097-84d0-83e18b862c3d",
      "metadata": {
        "id": "6be42004-a74a-4097-84d0-83e18b862c3d"
      },
      "source": [
        "#### Solve the unit commitment"
      ]
    },
    {
      "cell_type": "markdown",
      "id": "897debeb-1c82-4327-8bac-8b56413d032b",
      "metadata": {
        "id": "897debeb-1c82-4327-8bac-8b56413d032b"
      },
      "source": [
        "The first step is to define parameters in our optimizaiton problem. Here we use matrix forms and define all parameters as row vectors."
      ]
    },
    {
      "cell_type": "code",
      "execution_count": null,
      "id": "a968e20a-d90c-4f30-a98a-1dd771db6d23",
      "metadata": {
        "id": "a968e20a-d90c-4f30-a98a-1dd771db6d23"
      },
      "outputs": [],
      "source": [
        "# Define parameters\n",
        "N = 3; # number of generators\n",
        "H = 4; # number of hours\n",
        "\n",
        "# unit parameters are 1 by 3 vectors for the three generators\n",
        "MC      = np.array([20, 50, 30])   # marginal generator cost\n",
        "NLC     = np.array([500,300,200])  # no load cost\n",
        "SUC     = np.array([5000, 2000, 3000])  # start up cost\n",
        "GenMin  = np.array([200,50,100])   # minium generation\n",
        "GenMax  = np.array([500,200,300])  # maximum generation\n",
        "u0      = np.array([1,0,0])        # initial commitment status\n",
        "\n",
        "\n",
        "LOAD = np.array([450,525,765,525]);"
      ]
    },
    {
      "cell_type": "markdown",
      "id": "cbc23363-45dd-4e8e-9e43-ee1911cb2100",
      "metadata": {
        "id": "cbc23363-45dd-4e8e-9e43-ee1911cb2100"
      },
      "source": [
        "The next step is to define variables as 3 by 4 matrices - 3 generators across 4 time periods."
      ]
    },
    {
      "cell_type": "code",
      "execution_count": null,
      "id": "6c3e4a0c-ad8b-4ec6-ada4-19dd7481a4c7",
      "metadata": {
        "id": "6c3e4a0c-ad8b-4ec6-ada4-19dd7481a4c7"
      },
      "outputs": [],
      "source": [
        "# the first index is generator, the second is period\n",
        "g = cp.Variable((N,H), nonneg = True)   # generator dispatch\n",
        "u = cp.Variable((N,H), boolean = True)   # commitment status\n",
        "v = cp.Variable((N,H), boolean = True)   # start-up status"
      ]
    },
    {
      "cell_type": "markdown",
      "id": "511c1ed7-4459-4446-a22e-e4c6dfc7b111",
      "metadata": {
        "id": "511c1ed7-4459-4446-a22e-e4c6dfc7b111"
      },
      "source": [
        "Define the objective function using matrix multiplications `@`"
      ]
    },
    {
      "cell_type": "code",
      "execution_count": null,
      "id": "550763f3-8099-4b93-936f-1388b218bd27",
      "metadata": {
        "id": "550763f3-8099-4b93-936f-1388b218bd27"
      },
      "outputs": [],
      "source": [
        "obj = cp.Minimize( sum(MC @ g + NLC @ u)  + sum(SUC @ v))"
      ]
    },
    {
      "cell_type": "markdown",
      "id": "96d6b1d3-0405-40cc-be3c-d4769397b6ea",
      "metadata": {
        "id": "96d6b1d3-0405-40cc-be3c-d4769397b6ea"
      },
      "source": [
        "Define constraints\n",
        "\n",
        "$$\n",
        "\\begin{gather}\n",
        "    \\sum_{i=1}^3 g_{i,t} = \\mathrm{Demand}_t\\\\\n",
        "    \\mathrm{GenMin}_i u_{i,t} \\leq g_{i,t} \\leq \\mathrm{GenMax}_i u_{i,t} \\\\\n",
        "    v_{i,t} \\geq u_{i,t} - u_{i,t-1} \n",
        "\\end{gather}\n",
        "$$"
      ]
    },
    {
      "cell_type": "code",
      "execution_count": null,
      "id": "a40736e9-f5d8-47f6-84c6-e187a647f0a3",
      "metadata": {
        "id": "a40736e9-f5d8-47f6-84c6-e187a647f0a3"
      },
      "outputs": [],
      "source": [
        "# Initialize an empty constraint set\n",
        "con_set_1 = []  \n",
        "\n",
        "# power balance constraint, supply equals demand\n",
        "con_set_1.append( LOAD == sum(g) ) # demand balance constraint\n",
        "\n",
        "# use a for loop to define the unit constriant over each time period\n",
        "for t in range(H):  # go through each period\n",
        "    for i in range(N):  # go through each  generator\n",
        "        con_set_1.append(g[i][t] <= GenMax[i] * u[i][t])  # maximum generation limits\n",
        "        con_set_1.append(g[i][t] >= GenMin[i] * u[i][t])  # minimum generation limits\n",
        "        \n",
        "        if t==0:\n",
        "            # for the first period, check with initial commitment status\n",
        "            con_set_1.append( v[i][0] >= u[i][0] - u0[i]) \n",
        "        else:\n",
        "            # for other periods, check difference between two commitment status\n",
        "            con_set_1.append( v[i][t] >= u[i][t] - u[i][t-1])\n",
        "\n",
        "            "
      ]
    },
    {
      "cell_type": "markdown",
      "id": "392df853-85ff-41ed-8deb-d48d2e067cf1",
      "metadata": {
        "id": "392df853-85ff-41ed-8deb-d48d2e067cf1"
      },
      "source": [
        "Solve the optimization problem with the objective function `obj` and constraints `constraints`"
      ]
    },
    {
      "cell_type": "code",
      "execution_count": null,
      "id": "64348273-1c2b-4795-93ea-aeee3c50adc3",
      "metadata": {
        "id": "64348273-1c2b-4795-93ea-aeee3c50adc3"
      },
      "outputs": [],
      "source": [
        "# Solve the problem\n",
        "prob1 = cp.Problem(obj, con_set_1)\n",
        "prob1.solve(solver = 'GUROBI')\n",
        "prob1.solve();"
      ]
    },
    {
      "cell_type": "markdown",
      "id": "76147e2a-28b5-4b71-b272-feeb056c4fcd",
      "metadata": {
        "id": "76147e2a-28b5-4b71-b272-feeb056c4fcd"
      },
      "source": [
        "Print out the results. To print out some nice tables, use `pandas` package. You need to install it from terminal using\n",
        "`pip install pandas`"
      ]
    },
    {
      "cell_type": "code",
      "execution_count": null,
      "id": "b15056c6-dd8c-485a-9c2f-dae03c9eb096",
      "metadata": {
        "id": "b15056c6-dd8c-485a-9c2f-dae03c9eb096"
      },
      "outputs": [],
      "source": [
        "import pandas\n",
        "\n",
        "# define row names and headers\n",
        "row_Names = ['Unit1', 'Unit2', 'Unit3']\n",
        "col_Names = ['Hour 1', 'Hour 2', 'Hour 3', 'Hour 4']"
      ]
    },
    {
      "cell_type": "code",
      "execution_count": null,
      "id": "5927a9b4-faab-4d51-b3d0-db78950adde6",
      "metadata": {
        "colab": {
          "base_uri": "https://localhost:8080/"
        },
        "id": "5927a9b4-faab-4d51-b3d0-db78950adde6",
        "outputId": "1f342fab-4c31-4b7a-c2bd-83639a9fc2eb"
      },
      "outputs": [
        {
          "name": "stdout",
          "output_type": "stream",
          "text": [
            "\n",
            " Total operating cost: 55550.0\n",
            "\n",
            " Generator dispatch results: \n",
            "       Hour 1  Hour 2  Hour 3  Hour 4\n",
            "Unit1   450.0   425.0   500.0   425.0\n",
            "Unit2     0.0     0.0     0.0     0.0\n",
            "Unit3     0.0   100.0   265.0   100.0\n",
            "\n",
            " Generator commitment results: \n",
            "       Hour 1  Hour 2  Hour 3  Hour 4\n",
            "Unit1     1.0     1.0     1.0     1.0\n",
            "Unit2     0.0     0.0     0.0     0.0\n",
            "Unit3     0.0     1.0     1.0     1.0\n",
            "\n",
            " Generator start-up results: \n",
            "       Hour 1  Hour 2  Hour 3  Hour 4\n",
            "Unit1     0.0     0.0     0.0     0.0\n",
            "Unit2     0.0     0.0     0.0     0.0\n",
            "Unit3     0.0     1.0     0.0     0.0\n"
          ]
        }
      ],
      "source": [
        "# print out results\n",
        "print(\"\\n Total operating cost: %.1f\" % obj.value)\n",
        "\n",
        "print(\"\\n Generator dispatch results: \")\n",
        "GT = pandas.DataFrame(g.value,  row_Names, col_Names)\n",
        "print(GT.round(1))\n",
        "\n",
        "print(\"\\n Generator commitment results: \")\n",
        "UT = pandas.DataFrame(u.value,  row_Names, col_Names)\n",
        "print(UT.round(1))\n",
        "\n",
        "print(\"\\n Generator start-up results: \")\n",
        "VT = pandas.DataFrame(v.value,  row_Names, col_Names)\n",
        "print(VT.round(1))"
      ]
    }
  ],
  "metadata": {
    "colab": {
      "provenance": []
    },
    "kernelspec": {
      "display_name": "Python 3 (ipykernel)",
      "language": "python",
      "name": "python3"
    },
    "language_info": {
      "codemirror_mode": {
        "name": "ipython",
        "version": 3
      },
      "file_extension": ".py",
      "mimetype": "text/x-python",
      "name": "python",
      "nbconvert_exporter": "python",
      "pygments_lexer": "ipython3",
      "version": "3.9.12"
    }
  },
  "nbformat": 4,
  "nbformat_minor": 5
}