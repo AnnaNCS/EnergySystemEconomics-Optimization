{
  "cells": [
    {
      "cell_type": "markdown",
      "id": "2a37eaa4-407d-47b7-aa15-e1f0002f00e0",
      "metadata": {
        "id": "2a37eaa4-407d-47b7-aa15-e1f0002f00e0"
      },
      "source": [
        "# EEEL 4220 HW7\n",
        "## Fall 2022"
      ]
    },
    {
      "cell_type": "markdown",
      "id": "d7602d98-6307-4350-9712-8a61bb54b403",
      "metadata": {
        "id": "d7602d98-6307-4350-9712-8a61bb54b403"
      },
      "source": [
        "### Problem 1 Two-bus Power Flow (20)\n",
        "\n",
        "Consider the following two-bus system in which a generator powers the demand through three transmission lines. Calculate the line flow through each line. \n",
        "\n",
        "Hint: use the DC power flow equation as your starting point, note that each line has a different power flow and reactance, but shares the same angle variable.\n",
        "\n",
        "<div>\n",
        "<center><img src=\"https://ningkunzheng.github.io/images/hws/hw7_fig1.png\" width=\"800\"/></center>\n",
        "</div>"
      ]
    },
    {
      "cell_type": "code",
      "execution_count": null,
      "id": "ab1b7378",
      "metadata": {
        "colab": {
          "base_uri": "https://localhost:8080/"
        },
        "id": "ab1b7378",
        "outputId": "e78f9109-1a48-4e08-c796-5f80a7232047"
      },
      "outputs": [
        {
          "output_type": "stream",
          "name": "stdout",
          "text": [
            "The power through the transmission lines are:  Flow 1: 109.09 Flow 2: 36.36 Flow 3: 54.55\n"
          ]
        }
      ],
      "source": [
        "#Kirchoff's Current Law states: I = I1 + I2 + I3\n",
        "#Kirchoff's Voltage Law states: V1 = V2 = V3\n",
        "#Voltage = I * R (current * resistance) \n",
        "D = 200\n",
        "X1 = 0.1 \n",
        "X2 = 0.3\n",
        "X3 = 0.2\n",
        "F1 = X2 * X3 / ( X1 * X2 + X1 * X3 + X2 * X3 ) * D\n",
        "F2 = X1 * X3 / ( X1 * X2 + X1 * X3 + X2 * X3 ) * D\n",
        "F3 = X1 * X2 / ( X1 * X2 + X1 * X3 + X2 * X3 ) * D\n",
        "print(\"The power through the transmission lines are: \", \"Flow 1:\", '%.2f' % F1, \"Flow 2:\", '%.2f' % F2, \"Flow 3:\", '%.2f' % F3)\n"
      ]
    },
    {
      "cell_type": "markdown",
      "id": "928ef5d8-3402-4225-ab3c-4a72a71c77e8",
      "metadata": {
        "id": "928ef5d8-3402-4225-ab3c-4a72a71c77e8"
      },
      "source": []
    },
    {
      "cell_type": "markdown",
      "id": "a0fa6453",
      "metadata": {
        "id": "a0fa6453"
      },
      "source": [
        "### Problem 2 Two-bus Economic Dispatch (20)\n",
        "\n",
        "Consider the system in Figure 1 with three lines and the listed reactance, but now there are generators at both buses:\n",
        "* Bus 1 (left one) - Has Generator 1 with a production cost curve of $C(p) = 0.01p^2 + 20p + 100$, and the demand is 100 MW\n",
        "* Bus 2 (right one) - Has Generator 2 with a production cost curve of $C(p) = 0.02p^2 + 30p + 100$, and the demand is 200 MW\n",
        "\n",
        "Now assume Line one ($X_1 = 0.1$ p.u.) has a flow limit of 30 MW, solve the optimal economic dispatch and calculate\n",
        "\n",
        "1. The generation output of Generator 1 and 2. (10)\n",
        "2. The marginal price at Bus 1 and 2. (5)\n",
        "3. The total congestion surplus. (5)\n"
      ]
    },
    {
      "cell_type": "code",
      "execution_count": null,
      "id": "ce775e12",
      "metadata": {
        "colab": {
          "base_uri": "https://localhost:8080/"
        },
        "id": "ce775e12",
        "outputId": "03a054f6-4085-4283-ff8e-232b5ef51df6"
      },
      "outputs": [
        {
          "output_type": "stream",
          "name": "stdout",
          "text": [
            "Question 1:\n",
            "The output from generator 1 is 109.09 which is higher than the given limit\n",
            "The output from generator 2 is 145.00\n",
            "Therefore since P1 + P2 = 300, P1 will be:, 155.00 and P2 is 145.00\n",
            "Question 2:\n",
            "MF for bus 1 is: 23.1\n",
            "MF for bus 2 is: 35.8\n",
            "Question 3:\n",
            "The total congestion surplus is: 698.50\n"
          ]
        }
      ],
      "source": [
        "print(\"Question 1:\")\n",
        "P1 = 6/11*200\n",
        "print(\"The output from generator 1 is\", '%.2f' % P1, \"which is higher than the given limit\")\n",
        "P2 = (P1 - 30)/(6/11)\n",
        "print(\"The output from generator 2 is\", '%.2f' % P2)\n",
        "P1 = 300 - P2\n",
        "print(\"Therefore since P1 + P2 = 300, P1 will be:,\", '%.2f' % P1, \"and P2 is\", '%.2f' % P2) \n",
        "\n",
        "\n",
        "print(\"Question 2:\")\n",
        "#Find marginal cost of PT (derr C1 and C2)\n",
        "#plug 30 in both derr as the value for p \n",
        "def DC1(p):\n",
        "    return 0.02 * p + 20\n",
        "def DC2(p):\n",
        "    return 0.04 * p + 30\n",
        "print(\"MF for bus 1 is:\", DC1(155))\n",
        "print(\"MF for bus 2 is:\", DC2(145))\n",
        "\n",
        "print(\"Question 3:\")\n",
        "F12 = 300 - P1\n",
        "surplus = (DC2(145) - DC1(155)) * 55 \n",
        "print(\"The total congestion surplus is:\", '%.2f' %  surplus)"
      ]
    },
    {
      "cell_type": "markdown",
      "id": "011f6850",
      "metadata": {
        "id": "011f6850"
      },
      "source": [
        "### Problem 3 3-Bus Power Flow (30)\n",
        "\n",
        "Consider the power system shown in the figure. Assuming that the only limitations imposed by the network are imposed by the thermal capacity of the transmission lines and that reactive power flows are negligible, **check** that the sets of transactions shown in the table are simultaneously feasible.\n",
        "\n",
        "Hint: You need to apply super-position in this case tring to decompose the three bus power flow into the combination of parallel path flows each with one source and one sink.\n",
        "\n",
        "<style type=\"text/css\">\n",
        ".tg  {border-collapse:collapse;border-spacing:0;}\n",
        ".tg td{border-color:black;border-style:solid;border-width:1px;font-family:Arial, sans-serif;font-size:14px;\n",
        "  overflow:hidden;padding:10px 5px;word-break:normal;}\n",
        ".tg th{border-color:black;border-style:solid;border-width:1px;font-family:Arial, sans-serif;font-size:14px;\n",
        "  font-weight:normal;overflow:hidden;padding:10px 5px;word-break:normal;}\n",
        ".tg .tg-73oq{border-color:#000000;text-align:left;vertical-align:top}\n",
        ".tg .tg-0lax{text-align:left;vertical-align:top}\n",
        "</style>\n",
        "<table class=\"tg\" style=\"undefined;table-layout: fixed; width: 435px\">\n",
        "<colgroup>\n",
        "<col style=\"width: 138px\">\n",
        "<col style=\"width: 91px\">\n",
        "<col style=\"width: 100px\">\n",
        "<col style=\"width: 106px\">\n",
        "</colgroup>\n",
        "<thead>\n",
        "  <tr>\n",
        "    <th class=\"tg-73oq\" rowspan=\"2\"></th>\n",
        "    <th class=\"tg-73oq\" rowspan=\"2\">Seller</th>\n",
        "    <th class=\"tg-73oq\" rowspan=\"2\">Buyer</th>\n",
        "    <th class=\"tg-73oq\" rowspan=\"2\">Amount</th>\n",
        "  </tr>\n",
        "  <tr>\n",
        "  </tr>\n",
        "</thead>\n",
        "<tbody>\n",
        "  <tr>\n",
        "    <td class=\"tg-73oq\" rowspan=\"3\">Set 1<br></td>\n",
        "    <td class=\"tg-73oq\">B</td>\n",
        "    <td class=\"tg-73oq\">X</td>\n",
        "    <td class=\"tg-73oq\">200</td>\n",
        "  </tr>\n",
        "  <tr>\n",
        "    <td class=\"tg-73oq\">A</td>\n",
        "    <td class=\"tg-73oq\">Z</td>\n",
        "    <td class=\"tg-73oq\">400</td>\n",
        "  </tr>\n",
        "  <tr>\n",
        "    <td class=\"tg-73oq\">C</td>\n",
        "    <td class=\"tg-73oq\">Y</td>\n",
        "    <td class=\"tg-73oq\">300</td>\n",
        "  </tr>\n",
        "  <tr>\n",
        "    <td class=\"tg-73oq\" rowspan=\"5\">Set 2</td>\n",
        "    <td class=\"tg-73oq\">B</td>\n",
        "    <td class=\"tg-73oq\">Z</td>\n",
        "    <td class=\"tg-73oq\">600</td>\n",
        "  </tr>\n",
        "  <tr>\n",
        "    <td class=\"tg-73oq\">A</td>\n",
        "    <td class=\"tg-73oq\">X</td>\n",
        "    <td class=\"tg-73oq\">300</td>\n",
        "  </tr>\n",
        "  <tr>\n",
        "    <td class=\"tg-73oq\">A</td>\n",
        "    <td class=\"tg-73oq\">Y</td>\n",
        "    <td class=\"tg-73oq\">200</td>\n",
        "  </tr>\n",
        "  <tr>\n",
        "    <td class=\"tg-73oq\">A</td>\n",
        "    <td class=\"tg-73oq\">Z</td>\n",
        "    <td class=\"tg-73oq\">200</td>\n",
        "  </tr>\n",
        "  <tr>\n",
        "    <td class=\"tg-0lax\"></td>\n",
        "    <td class=\"tg-0lax\"></td>\n",
        "    <td class=\"tg-0lax\"></td>\n",
        "  </tr>\n",
        "  <tr>\n",
        "    <td class=\"tg-73oq\" rowspan=\"5\">Set 3</td>\n",
        "    <td class=\"tg-73oq\">C</td>\n",
        "    <td class=\"tg-73oq\">X</td>\n",
        "    <td class=\"tg-73oq\">1000</td>\n",
        "  </tr>\n",
        "  <tr>\n",
        "    <td class=\"tg-73oq\">X</td>\n",
        "    <td class=\"tg-73oq\">Y</td>\n",
        "    <td class=\"tg-73oq\">400</td>\n",
        "  </tr>\n",
        "  <tr>\n",
        "    <td class=\"tg-73oq\">B</td>\n",
        "    <td class=\"tg-73oq\">C</td>\n",
        "    <td class=\"tg-73oq\">300</td>\n",
        "  </tr>\n",
        "  <tr>\n",
        "    <td class=\"tg-73oq\">A</td>\n",
        "    <td class=\"tg-73oq\">C</td>\n",
        "    <td class=\"tg-73oq\">200</td>\n",
        "  </tr>\n",
        "  <tr>\n",
        "    <td class=\"tg-73oq\">A</td>\n",
        "    <td class=\"tg-73oq\">Z</td>\n",
        "    <td class=\"tg-73oq\">100</td>\n",
        "  </tr>\n",
        "</tbody>\n",
        "</table>\n",
        "\n",
        "\n",
        "</br>\n",
        "</br>\n",
        "</br>\n",
        "\n",
        "<div>\n",
        "<center><img src=\"https://ningkunzheng.github.io/images/hws/hw7_fig2.png\" width=\"500\"/></center>\n",
        "</div>"
      ]
    },
    {
      "cell_type": "code",
      "source": [
        "import numpy as np\n",
        "np.set_printoptions(precision=3)\n",
        "np.set_printoptions(suppress=True)\n",
        "\n",
        "print(\"Verify the feasibility of each set of transactions\")\n",
        "print(\"SET 1\")\n",
        "print(\"Demand: B = 200MW, Y = 300MW, A = 400MW, and X = 200MW\")\n",
        "\n",
        "A = np.array([[1, 1, 0],\n",
        "              [-1, 0, 1],\n",
        "              [0.2, -0.4, 0.4]])\n",
        "\n",
        "Arev = np.linalg.inv(A)\n",
        "B = np.array([[-100], [200], [0]])\n",
        "set1 = np.dot(Arev, B)\n",
        "print(\"The values for F12, F13, and F23 are the following, respectively:\")\n",
        "print(set1)\n",
        "\n",
        "print(\"SET 2\")\n",
        "print(\"Demand: B = 600MW, Y = 200MW, A = 700MW, X = 300MW\")\n",
        "\n",
        "B2 = np.array([[400], [400], [0]])\n",
        "set2 = np.dot(Arev, B2)\n",
        "print(\"The values for F12, F13, and F23 are the following, respectively:\")\n",
        "\n",
        "print(set2)\n",
        "\n",
        "print(\"SET 3\")\n",
        "print(\"Demand: B = 300MW, Y = 400MW, A = 300MW, X = 600MW\")\n",
        "B3 = np.array([[-100], [-100], [0]])\n",
        "print(\"The values for F12, F13, and F23 are the following, respectively:\")\n",
        "set3 = Arev.dot(B3)\n",
        "print(set3)\n",
        "\n"
      ],
      "metadata": {
        "colab": {
          "base_uri": "https://localhost:8080/"
        },
        "id": "EKerawjJ1_Do",
        "outputId": "6a17b55e-9815-4074-8368-6e5e8618ed2f"
      },
      "id": "EKerawjJ1_Do",
      "execution_count": null,
      "outputs": [
        {
          "output_type": "stream",
          "name": "stdout",
          "text": [
            "Verify the feasibility of each set of transactions\n",
            "SET 1\n",
            "Demand: B = 200MW, Y = 300MW, A = 400MW, and X = 200MW\n",
            "The values for F12, F13, and F23 are the following, respectively:\n",
            "[[-120.]\n",
            " [  20.]\n",
            " [  80.]]\n",
            "SET 2\n",
            "Demand: B = 600MW, Y = 200MW, A = 700MW, X = 300MW\n",
            "The values for F12, F13, and F23 are the following, respectively:\n",
            "[[  0.]\n",
            " [400.]\n",
            " [400.]]\n",
            "SET 3\n",
            "Demand: B = 300MW, Y = 400MW, A = 300MW, X = 600MW\n",
            "The values for F12, F13, and F23 are the following, respectively:\n",
            "[[  -0.]\n",
            " [-100.]\n",
            " [-100.]]\n"
          ]
        }
      ]
    },
    {
      "cell_type": "markdown",
      "id": "f7ae15c7-eda3-4b7e-83b9-8799ae2de95c",
      "metadata": {
        "id": "f7ae15c7-eda3-4b7e-83b9-8799ae2de95c"
      },
      "source": [
        "### Problem 4 Three-bus Economic Dispatch (30)\n",
        "\n",
        "Consider the the three-bus power system shown in the figure. The system has three lines with **equivalent** reactance with unlimited flow limits. Solve the economic dispatch and calculate\n",
        "1. Output of generator C.\n",
        "2. Flow from Bus 1 to Bus 2.\n",
        "3. The nodel marginal price at Bus 2.\n",
        "\n",
        "Hint: since there are no flow limits, solve the economic dispatch first without considering power flow, then calculate the power flow using the dispatch result."
      ]
    },
    {
      "cell_type": "markdown",
      "id": "7583c566-c12a-4aa4-ae47-73af6c076dbf",
      "metadata": {
        "id": "7583c566-c12a-4aa4-ae47-73af6c076dbf"
      },
      "source": [
        "</br>\n",
        "<div>\n",
        "<center><img src=\"https://ningkunzheng.github.io/images/hws/hw7_fig3.png\" width=\"500\"/></center>\n",
        "</div>"
      ]
    },
    {
      "cell_type": "markdown",
      "id": "54b3dcf7-eb73-4e4a-a017-965c4f14cc38",
      "metadata": {
        "id": "54b3dcf7-eb73-4e4a-a017-965c4f14cc38"
      },
      "source": [
        "<style type=\"text/css\">\n",
        ".tg  {border-collapse:collapse;border-spacing:0;}\n",
        ".tg td{border-color:black;border-style:solid;border-width:1px;font-family:Arial, sans-serif;font-size:14px;\n",
        "  overflow:hidden;padding:10px 5px;word-break:normal;}\n",
        ".tg th{border-color:black;border-style:solid;border-width:1px;font-family:Arial, sans-serif;font-size:14px;\n",
        "  font-weight:normal;overflow:hidden;padding:10px 5px;word-break:normal;}\n",
        ".tg .tg-73oq{border-color:#000000;text-align:left;vertical-align:top}\n",
        ".tg .tg-0lax{text-align:left;vertical-align:top}\n",
        "</style>\n",
        "<table class=\"tg\" style=\"undefined;table-layout: fixed; width: 451px\">\n",
        "<colgroup>\n",
        "<col style=\"width: 132px\">\n",
        "<col style=\"width: 135px\">\n",
        "<col style=\"width: 184px\">\n",
        "</colgroup>\n",
        "<thead>\n",
        "  <tr>\n",
        "    <th class=\"tg-73oq\" rowspan=\"2\">Generator</th>\n",
        "    <th class=\"tg-73oq\" rowspan=\"2\">Capacity (MW)</th>\n",
        "    <th class=\"tg-73oq\" rowspan=\"2\">Marginal Cost ($/MW)</th>\n",
        "  </tr>\n",
        "  <tr>\n",
        "  </tr>\n",
        "</thead>\n",
        "<tbody>\n",
        "  <tr>\n",
        "    <td class=\"tg-73oq\">A</td>\n",
        "    <td class=\"tg-73oq\">150</td>\n",
        "    <td class=\"tg-73oq\">12</td>\n",
        "  </tr>\n",
        "  <tr>\n",
        "    <td class=\"tg-73oq\">B</td>\n",
        "    <td class=\"tg-73oq\">200</td>\n",
        "    <td class=\"tg-73oq\">15</td>\n",
        "  </tr>\n",
        "  <tr>\n",
        "    <td class=\"tg-73oq\">C</td>\n",
        "    <td class=\"tg-73oq\">150</td>\n",
        "    <td class=\"tg-73oq\">10</td>\n",
        "  </tr>\n",
        "  <tr>\n",
        "    <td class=\"tg-0lax\">D</td>\n",
        "    <td class=\"tg-0lax\">400</td>\n",
        "    <td class=\"tg-0lax\">8</td>\n",
        "  </tr>\n",
        "</tbody>\n",
        "</table>"
      ]
    },
    {
      "cell_type": "code",
      "execution_count": null,
      "id": "299cb9e3-beea-4129-91f5-e62d78547fac",
      "metadata": {
        "colab": {
          "base_uri": "https://localhost:8080/"
        },
        "id": "299cb9e3-beea-4129-91f5-e62d78547fac",
        "outputId": "15bc2c3f-cb33-4a22-e122-af15b9328b81"
      },
      "outputs": [
        {
          "output_type": "stream",
          "name": "stdout",
          "text": [
            "Question 1:\n",
            "Our total is 400+40+80=520. The first cheapest marginal cost is D, for the leftover, 520-400=120 we will generate from C\n",
            "The output of generator C is 120\n",
            "\n",
            "Question 2:\n",
            "The flow in 13 and 23 should be equal to C+D-40\n",
            "Flow 13+23 is equal to 480\n",
            "Flow 12 and 13 is equal to -400\n",
            "Flow 12 and 32 is equal to -80\n",
            "Using the Kirchoff's Voltage Law, flow 12 and 13 and 23 are equal to 0.\n",
            "Therefore the flow from Bus 1 to 2 is -106.67 MW\n",
            "\n",
            "Question 3:\n",
            "The marginal cost for bus 2 is 10$/MW\n"
          ]
        }
      ],
      "source": [
        "print(\"Question 1:\")\n",
        "print(\"Our total is 400+40+80=520. The first cheapest marginal cost is D, for the leftover, 520-400=120 we will generate from C\")\n",
        "print(\"The output of generator C is 120 MW\\n\")\n",
        "\n",
        "print(\"Question 2:\")\n",
        "A = 150\n",
        "B = 200\n",
        "C = 120\n",
        "D = 400\n",
        "print(\"The flow in 13 and 23 should be equal to C+D-40\")\n",
        "print(\"Flow 13+23 is equal to\", C+D-40)\n",
        "print(\"Flow 12 and 13 is equal to -400\")\n",
        "print(\"Flow 12 and 32 is equal to -80\")\n",
        "print(\"Using the Kirchoff's Voltage Law, flow 12 and 13 and 23 are equal to 0.\")\n",
        "#120 + 400 - 40 = -F13 - F23\n",
        "#480 = -F13 - F23 \n",
        "#-400 = F12 + F13\n",
        "#-80 = -F12 + F23 \n",
        "#F12 + F23 - F13 = 0\n",
        "#after rearranging: \n",
        "F12 = -106.67\n",
        "F23 = -186.67\n",
        "F31 = -293.33\n",
        "print(\"Therefore the flow from Bus 1 to 2 is\", F12, \"MW\\n\")\n",
        "\n",
        "print(\"Question 3:\")\n",
        "print(\"The marginal cost for bus 2 is 10$/MW\")"
      ]
    }
  ],
  "metadata": {
    "kernelspec": {
      "display_name": "Python 3 (ipykernel)",
      "language": "python",
      "name": "python3"
    },
    "language_info": {
      "codemirror_mode": {
        "name": "ipython",
        "version": 3
      },
      "file_extension": ".py",
      "mimetype": "text/x-python",
      "name": "python",
      "nbconvert_exporter": "python",
      "pygments_lexer": "ipython3",
      "version": "3.9.12"
    },
    "colab": {
      "provenance": []
    }
  },
  "nbformat": 4,
  "nbformat_minor": 5
}